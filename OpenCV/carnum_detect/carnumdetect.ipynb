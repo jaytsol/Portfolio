{
 "cells": [
  {
   "cell_type": "markdown",
   "id": "a98d5108-998b-4b50-8ad3-b8ae5f9688eb",
   "metadata": {},
   "source": [
    "# 번호판 인식기"
   ]
  },
  {
   "cell_type": "markdown",
   "id": "7f731488-fcc2-4701-943e-120192d1a2c8",
   "metadata": {},
   "source": [
    "## <br>라이브러리"
   ]
  },
  {
   "cell_type": "code",
   "execution_count": 8,
   "id": "258999ac-5455-42cb-b6e3-b15c58df5509",
   "metadata": {},
   "outputs": [],
   "source": [
    "import cv2\n",
    "import numpy as np\n",
    "import matplotlib.pyplot as plt\n",
    "import pytesseract"
   ]
  },
  {
   "cell_type": "markdown",
   "id": "b4ea2e03-4132-4672-befb-c382608ec021",
   "metadata": {},
   "source": [
    "### <br>파일이름에 한글이 포함되어있음.<br>OpenCV에서 읽을 수 있도록 함"
   ]
  },
  {
   "cell_type": "code",
   "execution_count": 9,
   "id": "e2305007-0d07-4ce4-8628-9f2ca2ed3016",
   "metadata": {},
   "outputs": [],
   "source": [
    "original_img_array = np.fromfile('C:/Users/admin/Downloads/test2.jpg', np.uint8)\n",
    "original_img = cv2.imdecode(original_img_array, cv2.IMREAD_COLOR)\n",
    "height, width, channel = original_img.shape\n",
    "gray_img = cv2.cvtColor(original_img, cv2.COLOR_BGR2GRAY)"
   ]
  },
  {
   "cell_type": "markdown",
   "id": "cf9fb914-1efa-4165-96fb-8cee5514aef6",
   "metadata": {},
   "source": [
    "## <br>오리지널 이미지 확인"
   ]
  },
  {
   "cell_type": "code",
   "execution_count": 10,
   "id": "073d4fe6-d879-49a3-bbf9-9744ac432085",
   "metadata": {},
   "outputs": [],
   "source": [
    "cv2.imshow('Original Image', original_img)\n",
    "cv2.waitKey(0)\n",
    "cv2.destroyAllWindows()"
   ]
  },
  {
   "cell_type": "markdown",
   "id": "1b328891-d9e7-4af0-b028-4dd628258f17",
   "metadata": {},
   "source": [
    "## <br>GRAY 이미지 확인"
   ]
  },
  {
   "cell_type": "code",
   "execution_count": 5,
   "id": "37a53d08-3b60-472a-9e2d-ddb6023bcbd4",
   "metadata": {},
   "outputs": [],
   "source": [
    "cv2.imshow('Gray Image', gray_img)\n",
    "cv2.waitKey(0)\n",
    "cv2.destroyAllWindows()"
   ]
  },
  {
   "cell_type": "markdown",
   "id": "8887e9f2-9d52-4054-b101-98f124ea93e5",
   "metadata": {},
   "source": [
    "## <br>노이즈 제거를 위한 Blur처리와 이미지 이진화"
   ]
  },
  {
   "cell_type": "code",
   "execution_count": 6,
   "id": "1db96832-a0bf-4afb-9bea-da2a71a142f0",
   "metadata": {},
   "outputs": [],
   "source": [
    "img_blurred = cv2.GaussianBlur(gray_img, ksize=(5,5), sigmaX=0)\n",
    "img_thresh = cv2.adaptiveThreshold(img_blurred, maxValue=255.0,\\\n",
    "adaptiveMethod = cv2.ADAPTIVE_THRESH_GAUSSIAN_C, \\\n",
    "thresholdType = cv2.THRESH_BINARY_INV, blockSize = 19, C = 9)\n",
    "\n",
    "cv2.imshow('Thresh_image', img_thresh)\n",
    "cv2.waitKey(0)\n",
    "cv2.destroyAllWindows()"
   ]
  },
  {
   "cell_type": "markdown",
   "id": "57977262-2d30-4309-9e5e-6ac0c5a53691",
   "metadata": {},
   "source": [
    "## <br>윤곽선(컨투어) 찾고 그리기"
   ]
  },
  {
   "cell_type": "code",
   "execution_count": 7,
   "id": "6bc90ba9-4c13-4c2d-b05d-0a937a10e37e",
   "metadata": {},
   "outputs": [],
   "source": [
    "contours, _ = cv2.findContours(img_thresh, mode=cv2.RETR_LIST, method=cv2.CHAIN_APPROX_SIMPLE)\n",
    "temp_img = np.zeros((height, width, channel), dtype=np.uint8)\n",
    "cv2.drawContours(temp_img, contours=contours, contourIdx=-1, color=(255, 255, 255))\n",
    "cv2.imshow('Contour Image', temp_img)\n",
    "cv2.waitKey(0)\n",
    "cv2.destroyAllWindows()"
   ]
  },
  {
   "cell_type": "markdown",
   "id": "47bfd170-b88d-4781-ae8a-ac2c5082c829",
   "metadata": {},
   "source": [
    "## <br>사각형 그리기"
   ]
  },
  {
   "cell_type": "code",
   "execution_count": 11,
   "id": "3def5d33-87f9-4057-93dc-c5440115fe6a",
   "metadata": {},
   "outputs": [],
   "source": [
    "all_contours_info = []    #각각의 contour의 x, y, w, h 등의 정보를 담아둘 곳\n",
    "temp_img = np.zeros((height, width, channel), dtype=np.uint8)\n",
    "for contour in contours:\n",
    "    x, y, w, h = cv2.boundingRect(contour)\n",
    "    cv2.rectangle(temp_img, pt1=(x,y), pt2=(x+w, y+h), color=(255, 255, 255), thickness=2)\n",
    "    \n",
    "    all_contours_info.append({'contour' : contour,\n",
    "                             'x' : x,\n",
    "                             'y' : y,\n",
    "                             'w' : w,\n",
    "                             'h' : h,\n",
    "                             'cx' : x+(w/2),\n",
    "                             'cy' : y+(h/2)})\n",
    "\n",
    "cv2.imshow('Contour Image with Rect', temp_img)\n",
    "cv2.waitKey(0)\n",
    "cv2.destroyAllWindows()"
   ]
  },
  {
   "cell_type": "markdown",
   "id": "5f3ae004-8d87-499e-9760-db92abef0ac6",
   "metadata": {},
   "source": [
    "## <br>번호판 글자만 추출\n",
    "### <br>1. 크기 조건으로 판단"
   ]
  },
  {
   "cell_type": "code",
   "execution_count": 15,
   "id": "74086113-7ffc-4d1b-8679-5746c1e08ad2",
   "metadata": {},
   "outputs": [],
   "source": [
    "MIN_AREA = 80                       # 최소 넓이\n",
    "MIN_WIDTH, MIN_HEIGHT = 2, 8        # 최소 너비, 높이\n",
    "MIN_RATIO, MAX_RATIO = 0.25, 1.0    # 최소 비율 (가로 대비 세로 비율)\n",
    "\n",
    "size_ok_contours = []\n",
    "count = 0\n",
    "for contour_info in all_contours_info:\n",
    "    area = contour_info['w'] * contour_info['h']\n",
    "    ratio = contour_info['w'] / contour_info['h']\n",
    "    \n",
    "    if area > MIN_AREA and contour_info['w'] > MIN_WIDTH \\\n",
    "    and contour_info['h'] > MIN_HEIGHT and MIN_RATIO < ratio < MAX_RATIO:\n",
    "        contour_info['index'] = count\n",
    "        size_ok_contours.append(contour_info)\n",
    "        count += 1\n",
    "\n",
    "temp_img = np.zeros((height, width, channel), dtype=np.uint8)\n",
    "for contour in size_ok_contours:\n",
    "    cv2.rectangle(temp_img,\n",
    "    pt1 = (contour['x'], contour['y']),\n",
    "    pt2 = (contour['x'] + contour['w'], contour['y'] + contour['h']),\n",
    "    color = (255, 255, 255), thickness = 2)\n",
    "\n",
    "cv2.imshow('selected_rect', temp_img)\n",
    "cv2.waitKey(0)\n",
    "cv2.destroyAllWindows()"
   ]
  },
  {
   "cell_type": "markdown",
   "id": "f1ba9e6e-cb21-477b-83b9-f33abcabffd0",
   "metadata": {},
   "source": [
    "### <br>2. 정렬방식으로 판단"
   ]
  },
  {
   "cell_type": "code",
   "execution_count": 16,
   "id": "881fc80a-3467-4cb9-b66d-3daf3c59b373",
   "metadata": {},
   "outputs": [],
   "source": [
    "MAX_DIAGONAL_SCALE = 5    # 사각형의 대각선 길이의 최대 5배가 최대 간격\n",
    "MAX_ANGLE_DIFF = 12.0     # 사각형의 중심 최대 각도\n",
    "MAX_AREA_DIFF = 0.5       # 사각형의 최대 면적 차이\n",
    "MAX_WIDTH_DIFF, MAX_HEIGHT_DIFF = 0.8, 0.2 # 가로, 세로 차이\n",
    "MIN_MATCHED_NUM = 3       # 조건을 만족하는 사각형의 최소 개수\n",
    "\n",
    "def findrect(possible_contours): # possible_contours = size_ok_contours\n",
    "    final_matched_index = []     # 최종 후보군 인덱스 모음\n",
    "    # 이중 for문으로 contour 사각형 2개를 비교할 것임.\n",
    "    for rect1 in possible_contours:\n",
    "        matched_contours_index = [] # MIN_MATCHED_NUM을 제외한 모든 조건을 통과한 후보군 인덱스 모음\n",
    "        for rect2 in possible_contours:\n",
    "            if rect1['index'] == rect2['index']: #같은 contour는 같은 index이므로 pass\n",
    "                continue\n",
    "            # 첫 번째 contour 사격형의 대각선 길이. sqrt(): 루트근사값\n",
    "            rect1_diagonal_length = np.sqrt(rect1['w']**2 + rect1['h']**2) # a^2 + b^2 = c^2\n",
    "            # np.linalg.norm(a-b): 벡터 a와 벡터 b사이의 거리를 구함 - 두 contour 중심점 사이 길이\n",
    "            distance = np.linalg.norm(np.array([rect1['cx'], rect1['cy']]) - np.array([rect2['cx'], rect2['cy']]))\n",
    "            # dx: 직삼각형 만들 때의 밑변 / dy: 직삼각형 만들 때의 세로변\n",
    "            dx = abs(rect1['cx']-rect2['cx'])\n",
    "            dy = abs(rect1['cy']-rect2['cy'])\n",
    "            if dx == 0: # dx가 0이면 서로 같은 x좌표이기 때문에 예외처리로 90도로 설정\n",
    "                angle_diff = 90\n",
    "            else:\n",
    "                angle_diff = np.degrees(np.arctan(dy / dx))\n",
    "                \n",
    "            area_diff = abs(rect1['w']*rect1['h'] - rect2['w']*rect2['h']) / (rect1['w']*rect1['h'])\n",
    "            width_diff = abs(rect1['w'] - rect2['w']) / rect1['w'] # 가로의 비율\n",
    "            height_diff = abs(rect1['h'] - rect2['h']) / rect1['h'] # 높이의 비율\n",
    "            \n",
    "            if distance < rect1_diagonal_length * MAX_DIAGONAL_SCALE \\\n",
    "                and angle_diff < MAX_ANGLE_DIFF \\\n",
    "                and area_diff < MAX_AREA_DIFF and width_diff < MAX_WIDTH_DIFF and height_diff < MAX_HEIGHT_DIFF:\n",
    "                matched_contours_index.append(rect2['index'])\n",
    "        matched_contours_index.append(rect1['index']) # rect1은 첫번째 for문에서\n",
    "        \n",
    "        if len(matched_contours_index) < MIN_MATCHED_NUM:\n",
    "            continue\n",
    "        final_matched_index.append(matched_contours_index)\n",
    "        \n",
    "        unmatched_contours_index = [] # 후보군에 들지 못한 비후보군 인덱스 모음\n",
    "        for rect3 in possible_contours:\n",
    "            if rect3['index'] not in matched_contours_index:\n",
    "                unmatched_contours_index.append(rect3['index'])\n",
    "        # np.take(a, b): a에서 b값 인덱스들을 추출.\n",
    "        unmatched_contours = np.take(size_ok_contours, unmatched_contours_index)\n",
    "        \n",
    "        recursive_contours_index = findrect(unmatched_contours)\n",
    "        for index in recursive_contours_index:\n",
    "            final_matched_index.append(index)\n",
    "            break\n",
    "    return final_matched_index\n",
    "\n",
    "result_index = findrect(size_ok_contours) # 최종 후보군 index를 통해 저장\n",
    "result_contours = [] # 최종 후보군 index를 통해 얻을 contour 정보 저장하기 위하여\n",
    "for index in result_index:\n",
    "    # 최종 후보군 index 정보로 size_ok_contours에서 최종 contour 선별\n",
    "    result_contours.append(np.take(size_ok_contours, index))"
   ]
  },
  {
   "cell_type": "markdown",
   "id": "8f6d094a-1b69-483f-a40c-b18e7b387c5a",
   "metadata": {},
   "source": [
    "## <br>최종 후보군에 들어있는 contour를 시각화"
   ]
  },
  {
   "cell_type": "code",
   "execution_count": 18,
   "id": "404c873a-0c13-4a0a-b5cb-f5b7ae47bfa8",
   "metadata": {},
   "outputs": [],
   "source": [
    "temp_img = np.zeros((height, width, channel), dtype=np.uint8)\n",
    "for contour in result_contours: # 최종 후보군 시각화\n",
    "    for rect in contour:\n",
    "        cv2.rectangle(temp_img, pt1=(rect['x'], rect['y']), pt2=(rect['x']+rect['w'], rect['y']+rect['h']), color=(255,255,255), thickness=2)\n",
    "cv2.imshow('Visualization', temp_img)\n",
    "cv2.waitKey(0)\n",
    "cv2.destroyAllWindows()"
   ]
  },
  {
   "cell_type": "markdown",
   "id": "a7a3c507-ac08-4906-8e04-a4e9772fd4ac",
   "metadata": {},
   "source": [
    "## <br>기울어진 번호판 수평으로 맞추기(리턴된 각도만큼 이미지 회전 부분 추가해야함)"
   ]
  },
  {
   "cell_type": "code",
   "execution_count": 19,
   "id": "2f320072-cf5a-414e-85ad-e9dc98de4fe4",
   "metadata": {},
   "outputs": [],
   "source": [
    "PLATE_WIDTH_PADDING = 1.3\n",
    "PLATE_HEIGHT_PADDING = 1.5\n",
    "MIN_PLATE_RATIO = 3\n",
    "MAX_PLATE_RATIO = 10\n",
    "\n",
    "for i, result_contour in enumerate(result_contours):\n",
    "    # sorted_contour: 정렬된 최종 후보군 contour들\n",
    "    sorted_contour = sorted(result_contour, key=lambda x: x['cx']) # x방향으로 순차적 정렬\n",
    "    \n",
    "    # 첫번째 contour와 마지막(-1) contour로 처음과 끝 중간좌표 구하기\n",
    "    plate_cx = (sorted_contour[0]['cx'] + sorted_contour[-1]['cx']) / 2\n",
    "    plate_cy = (sorted_contour[0]['cy'] + sorted_contour[-1]['cy']) / 2\n",
    "    plate_width = (sorted_contour[-1]['x'] + sorted_contour[-1]['w'] - sorted_contour[0]['x']) * PLATE_WIDTH_PADDING\n",
    "    sum_height = 0\n",
    "    for rect in sorted_contour:\n",
    "        sum_height += rect['h']\n",
    "    plate_height = int(sum_height / len(sorted_contour) * PLATE_HEIGHT_PADDING)\n",
    "    triangle_height = sorted_contour[-1]['cy'] - sorted_contour[0]['cy']\n",
    "    triangle_hypotenus = np.linalg.norm(np.array([sorted_contour[0]['cx'], sorted_contour[0]['cy']]) - np.array([sorted_contour[-1]['cx'], sorted_contour[-1]['cy']]))\\\n",
    "    # arcsin을 이용해 각도를 구한다. (빗변과 세로변이므로 tan가 아닌 sin)\n",
    "    angle = np.degrees(np.arcsin(triangle_height / triangle_hypotenus))\n",
    "    \n",
    "cv2.imshow('Horizantalization', temp_img)\n",
    "cv2.waitKey(0)\n",
    "cv2.destroyAllWindows()"
   ]
  },
  {
   "cell_type": "code",
   "execution_count": 13,
   "id": "9f5893cf-7656-4391-813b-0f6486146d1d",
   "metadata": {},
   "outputs": [
    {
     "data": {
      "text/plain": [
       "1.3019526725788753"
      ]
     },
     "execution_count": 13,
     "metadata": {},
     "output_type": "execute_result"
    }
   ],
   "source": [
    "angle"
   ]
  },
  {
   "cell_type": "code",
   "execution_count": null,
   "id": "ff01b988-2067-4d4d-bba4-bc832f746059",
   "metadata": {},
   "outputs": [],
   "source": []
  }
 ],
 "metadata": {
  "kernelspec": {
   "display_name": "Python 3",
   "language": "python",
   "name": "python3"
  },
  "language_info": {
   "codemirror_mode": {
    "name": "ipython",
    "version": 3
   },
   "file_extension": ".py",
   "mimetype": "text/x-python",
   "name": "python",
   "nbconvert_exporter": "python",
   "pygments_lexer": "ipython3",
   "version": "3.8.10"
  }
 },
 "nbformat": 4,
 "nbformat_minor": 5
}
