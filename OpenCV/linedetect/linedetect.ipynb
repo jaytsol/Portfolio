{
 "cells": [
  {
   "cell_type": "markdown",
   "id": "df99a763-12e7-432d-a959-03fed82b35b3",
   "metadata": {},
   "source": [
    "# 차선검출"
   ]
  },
  {
   "cell_type": "markdown",
   "id": "93ac5dd1-aa69-4e9c-8486-c25e448deb7a",
   "metadata": {},
   "source": [
    "## <br>라이브러리"
   ]
  },
  {
   "cell_type": "code",
   "execution_count": 47,
   "id": "2f3a2435-a7ed-4ac9-afbf-3b414830a233",
   "metadata": {},
   "outputs": [],
   "source": [
    "import cv2\n",
    "import numpy as np\n",
    "from math import *"
   ]
  },
  {
   "cell_type": "markdown",
   "id": "0665ebf1-d9f7-4e56-8c51-8e9624825461",
   "metadata": {},
   "source": [
    "## <br>함수부"
   ]
  },
  {
   "cell_type": "code",
   "execution_count": 48,
   "id": "501adcf0-834b-493e-8707-7d06e2a9cb40",
   "metadata": {},
   "outputs": [],
   "source": [
    "def grayscale(img):\n",
    "    return cv2.cvtColor(img, cv2.COLOR_RGB2GRAY)\n",
    "\n",
    "def canny(img, low_threshold, high_threshold):\n",
    "    return cv2.Canny(img, low_threshold, high_threshold)\n",
    "\n",
    "def gaussian_blur(img, kernel_size):\n",
    "    return cv2.GaussianBlur(img, (kernel_size, kernel_size), 0)\n",
    "\n",
    "def region_of_interest(img, vertices, color3=(255,255,255), color1=255):    # ROI 설정\n",
    "    mask = np.zeros_like(img)\n",
    "    \n",
    "    if len(img.shape) > 2:\n",
    "        color = color3\n",
    "    else:\n",
    "        color = color1\n",
    "        \n",
    "    cv2.fillPoly(mask, vertices, color)    # ROI부분을 color로 채움\n",
    "    \n",
    "    ROI_image = cv2.bitwise_and(img, mask)\n",
    "    return ROI_image\n",
    "\n",
    "def draw_lines(img, lines, color=[0, 0, 255], thickness=2):\n",
    "    for line in lines:\n",
    "        for x1, y1, x2, y2 in line:\n",
    "            cv2.line(img, (x1, y1), (x2, y2), color, thickness)\n",
    "\n",
    "def draw_fit_line(img, lines, color=[255, 0, 0], thickness=10): # 대표선 그리기\n",
    "    cv2.line(img, (lines[0], lines[1]), (lines[2], lines[3]), color, thickness)\n",
    "            \n",
    "def hough_lines(img, rho, theta, threshold, min_line_len, max_line_gap):    # 허프변환\n",
    "    lines = cv2.HoughLinesP(img, rho, theta, threshold, np.array([]), minLineLength=min_line_len, maxLineGap=max_line_gap)\n",
    "    # line_img = np.zeros((img.shape[0], img.shape[1], 3), dtype=np.uint8)\n",
    "    # draw_lines(line_img, lines)\n",
    "    \n",
    "    return lines\n",
    "\n",
    "def weighted_img(img, initial_img, a=1, b=1., c=0.):    # 두 이미지 겹치기\n",
    "    return cv2.addWeighted(initial_img, a, img, b, c)\n",
    "\n",
    "def get_fitline(img, f_lines): # 대표선 구하기\n",
    "    lines = np.squeeze(f_lines)\n",
    "    lines = lines.reshape(lines.shape[0]*2,2)\n",
    "    rows,cols = img.shape[:2]\n",
    "    output = cv2.fitLine(lines,cv2.DIST_L2,0, 0.01, 0.01)\n",
    "    vx, vy, x, y = output[0], output[1], output[2], output[3]\n",
    "    x1, y1 = int(((img.shape[0]-1)-y)/vy*vx+x), img.shape[0]-1\n",
    "    x2, y2 = int(((img.shape[0]/2+100)-y)/vy*vx+x), int(img.shape[0]/2+100)\n",
    "    \n",
    "    result = [x1,y1,x2,y2]\n",
    "    return result\n",
    "\n",
    "def get_midline(left_fit_line, right_fit_line):\n",
    "    midline = [int((left_fit_line[0]+right_fit_line[0])/2),int((left_fit_line[1]+right_fit_line[1])/2),int((left_fit_line[2]+right_fit_line[2])/2),int((left_fit_line[3]+right_fit_line[3])/2)]\n",
    "    \n",
    "    return midline\n",
    "\n",
    "def get_midline_degree(left_fit_line, right_fit_line):    # 중간라인 기울기 구하기. 아랫점이 왼쪽일때 기울기 +.\n",
    "    midline = [int((left_fit_line[0]+right_fit_line[0])/2),int((left_fit_line[1]+right_fit_line[1])/2),int((left_fit_line[2]+right_fit_line[2])/2),int((left_fit_line[3]+right_fit_line[3])/2)]\n",
    "    degree = degrees(atan((midline[3]-midline[1])/(midline[2]-midline[0])))\n",
    "    \n",
    "    return degree"
   ]
  },
  {
   "cell_type": "markdown",
   "id": "aca599c4-bc3e-4452-9296-0472214900fc",
   "metadata": {},
   "source": [
    "## <br>이미지 처리 (grayscale - invert - blur - canny)"
   ]
  },
  {
   "cell_type": "code",
   "execution_count": 49,
   "id": "08bb7c6d-671b-42a8-9a59-82b59baf98dd",
   "metadata": {},
   "outputs": [],
   "source": [
    "# original_image = cv2.imread('C:/Users/admin/Desktop/Hustar/Project/linedetect/source.jpg')\n",
    "original_image = cv2.imread('C:/Users/admin/Downloads/roaddata/Training/bb/data/front/20200708_200952/1/1_20200708_200952_000000.jpg')\n",
    "original_image = cv2.imread('C:/Users/admin/Downloads/solidWhiteCurve.jpg')\n",
    "gray_image = grayscale(original_image)\n",
    "invert_image = cv2.bitwise_not(gray_image)\n",
    "blur_image = gaussian_blur(invert_image, 5)\n",
    "canny_image = canny(blur_image, 70, 100)\n",
    "\n",
    "original_image_resized = cv2.resize(original_image, dsize=(0, 0), fx=0.5, fy=0.5, interpolation=cv2.INTER_LINEAR)\n",
    "gray_image_resized = cv2.resize(gray_image, dsize=(0, 0), fx=0.5, fy=0.5, interpolation=cv2.INTER_LINEAR)\n",
    "invert_image_resized = cv2.resize(invert_image, dsize=(0, 0), fx=0.5, fy=0.5, interpolation=cv2.INTER_LINEAR)\n",
    "blur_image_resized = cv2.resize(blur_image, dsize=(0, 0), fx=0.5, fy=0.5, interpolation=cv2.INTER_LINEAR)\n",
    "canny_image_resized = cv2.resize(canny_image, dsize=(0, 0), fx=0.5, fy=0.5, interpolation=cv2.INTER_LINEAR)\n",
    "cv2.imshow('original', original_image_resized)\n",
    "cv2.imshow('gray', gray_image_resized)\n",
    "cv2.imshow('invert', invert_image_resized)\n",
    "cv2.imshow('blur', blur_image_resized)\n",
    "cv2.imshow('canny', canny_image_resized)\n",
    "\n",
    "cv2.waitKey(0)\n",
    "cv2.destroyAllWindows()"
   ]
  },
  {
   "cell_type": "markdown",
   "id": "1089f947-d1ba-4b83-8863-8e7eba4df07a",
   "metadata": {},
   "source": [
    "## <br>ROI 위치 설정"
   ]
  },
  {
   "cell_type": "markdown",
   "id": "2ba4fc2b-d095-47ba-83f3-5d5664dc3e98",
   "metadata": {},
   "source": [
    "invert test용 라인 (ROI 위치 확인용)"
   ]
  },
  {
   "cell_type": "code",
   "execution_count": 50,
   "id": "78dc63e9-e798-4093-aef0-b160bf065ad3",
   "metadata": {},
   "outputs": [],
   "source": [
    "height, width = original_image.shape[:2]\n",
    "vertices = np.array([[(width/4-60, height), (width/2-45, height/3+45), (width/2+45, height/3+45), (width*3/4+60, height)]], dtype=np.int32)\n",
    "# vertices = np.array([[(width/4-60, height), (width/2-45, height-200), (width/2+45, height-200), (width*3/4+60, height)]], dtype=np.int32)\n",
    "\n",
    "roi_image = region_of_interest(invert_image, vertices)\n",
    "roi_resized = cv2.resize(roi_image, dsize=(0, 0), fx=0.5, fy=0.5, interpolation=cv2.INTER_LINEAR)\n",
    "cv2.imshow('ROI', roi_resized)\n",
    "cv2.waitKey(0)\n",
    "cv2.destroyAllWindows()"
   ]
  },
  {
   "cell_type": "markdown",
   "id": "ab4730ff-c28d-4b97-a053-56e5932417fe",
   "metadata": {},
   "source": [
    "canny 실전용 라인"
   ]
  },
  {
   "cell_type": "code",
   "execution_count": 51,
   "id": "ead5db74-5137-4308-9c8a-0805f1bf3fa4",
   "metadata": {},
   "outputs": [],
   "source": [
    "height, width = original_image.shape[:2]\n",
    "# 여기에 vertice 라인 넣음. 추후에\n",
    "roi_image = region_of_interest(canny_image, vertices)\n",
    "cv2.imshow('ROI', roi_image)\n",
    "cv2.waitKey(0)\n",
    "cv2.destroyAllWindows()"
   ]
  },
  {
   "cell_type": "markdown",
   "id": "d52236c1-4b98-4d7e-9f7e-73d5a976260e",
   "metadata": {},
   "source": [
    "## <br>HoughLine 적용 및 기울기 제한"
   ]
  },
  {
   "cell_type": "code",
   "execution_count": 55,
   "id": "356bc3e7-d5cd-4b1c-8992-188acb7f3181",
   "metadata": {},
   "outputs": [],
   "source": [
    "line_arr = hough_lines(roi_image, 1, 1*np.pi/180, 30, 65, 20)    # 허프 변환\n",
    "line_arr = np.squeeze(line_arr)\n",
    "\n",
    "# 기울기 구하기\n",
    "slope_degree = (np.arctan2(line_arr[:,1] - line_arr[:,3], line_arr[:,0] - line_arr[:,2]) * 180) / np.pi\n",
    "\n",
    "# 수평 기울기 제한\n",
    "line_arr = line_arr[np.abs(slope_degree)<160]\n",
    "slope_degree = slope_degree[np.abs(slope_degree)<160]\n",
    "# 수직 기울기 제한\n",
    "line_arr = line_arr[np.abs(slope_degree)>95]\n",
    "slope_degree = slope_degree[np.abs(slope_degree)>95]\n",
    "# 필터링된 직선 버리기\n",
    "L_lines, R_lines = line_arr[(slope_degree>0),:], line_arr[(slope_degree<0),:]\n",
    "temp = np.zeros((original_image.shape[0], original_image.shape[1], 3), dtype=np.uint8)\n",
    "L_lines, R_lines = L_lines[:,None], R_lines[:,None]\n",
    "# 왼쪽, 오른쪽 각각 대표선 구하기\n",
    "left_fit_line = get_fitline(roi_image, L_lines)\n",
    "right_fit_line = get_fitline(roi_image, R_lines)\n",
    "# 가운데 대표선 구하기\n",
    "mid_fit_line = get_midline(left_fit_line, right_fit_line)\n",
    "# 대표선 그리기\n",
    "draw_fit_line(temp, left_fit_line)\n",
    "draw_fit_line(temp, right_fit_line)\n",
    "# 가운데 라인 그리기\n",
    "draw_fit_line(temp, mid_fit_line)\n",
    "\n",
    "result = weighted_img(temp, original_image)\n",
    "result_resized = cv2.resize(result, dsize=(0, 0), fx=0.5, fy=0.5, interpolation=cv2.INTER_LINEAR)\n",
    "Hough_resized = cv2.resize(temp, dsize=(0, 0), fx=0.5, fy=0.5, interpolation=cv2.INTER_LINEAR)\n",
    "cv2.imshow('HoughLine', Hough_resized)\n",
    "cv2.waitKey(0)\n",
    "cv2.destroyAllWindows()\n",
    "\n",
    "cv2.imshow('result', result_resized)\n",
    "cv2.waitKey(0)\n",
    "cv2.destroyAllWindows()"
   ]
  },
  {
   "cell_type": "code",
   "execution_count": 44,
   "id": "1216eac3-8f88-43d9-b210-2456f368501d",
   "metadata": {},
   "outputs": [
    {
     "data": {
      "text/plain": [
       "[530, 539, 495, 370]"
      ]
     },
     "execution_count": 44,
     "metadata": {},
     "output_type": "execute_result"
    }
   ],
   "source": [
    "mid_fit_line"
   ]
  },
  {
   "cell_type": "code",
   "execution_count": 45,
   "id": "3a48e1e2-7bb1-4828-a946-52237994219c",
   "metadata": {},
   "outputs": [
    {
     "data": {
      "text/plain": [
       "78.29942053718419"
      ]
     },
     "execution_count": 45,
     "metadata": {},
     "output_type": "execute_result"
    }
   ],
   "source": [
    "get_midline_degree(left_fit_line, right_fit_line)"
   ]
  },
  {
   "cell_type": "code",
   "execution_count": 46,
   "id": "c0b6b946-f1f0-44ac-84ba-2ade5e4dd99d",
   "metadata": {},
   "outputs": [
    {
     "data": {
      "text/plain": [
       "array([[490, 313, 678, 417],\n",
       "       [483, 311, 693, 432],\n",
       "       [408, 366, 535, 274],\n",
       "       [484, 309, 683, 419],\n",
       "       [280, 462, 345, 410],\n",
       "       [538, 342, 691, 430],\n",
       "       [420, 356, 496, 301]], dtype=int32)"
      ]
     },
     "execution_count": 46,
     "metadata": {},
     "output_type": "execute_result"
    }
   ],
   "source": [
    "line_arr"
   ]
  },
  {
   "cell_type": "markdown",
   "id": "1c36788e-94bf-484b-b69d-f527890b11ea",
   "metadata": {},
   "source": [
    "생각\n",
    "\n",
    "mid_fit_line[0] 과 mid_fit_line[2] 기준.\n",
    "ex) 977 - 933 = +값 나옴. 이는 왼쪽으로 좀더 치우쳤단 소리이므로 왼쪽바퀴 좀더 가속해서 오른쪽으로 더 가게 함.\n",
    "-값 나오면 오른쪽으로 좀더 치우쳤단 소리이므로 오른쪽바퀴 좀더 가속해서 왼쪽으로 더 가게 함."
   ]
  },
  {
   "cell_type": "code",
   "execution_count": null,
   "id": "0363c16b-a4b2-4f25-88bc-2699f6d2cc3b",
   "metadata": {},
   "outputs": [],
   "source": []
  }
 ],
 "metadata": {
  "kernelspec": {
   "display_name": "Python 3",
   "language": "python",
   "name": "python3"
  },
  "language_info": {
   "codemirror_mode": {
    "name": "ipython",
    "version": 3
   },
   "file_extension": ".py",
   "mimetype": "text/x-python",
   "name": "python",
   "nbconvert_exporter": "python",
   "pygments_lexer": "ipython3",
   "version": "3.8.10"
  }
 },
 "nbformat": 4,
 "nbformat_minor": 5
}
